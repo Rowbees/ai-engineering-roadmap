{
 "cells": [
  {
   "cell_type": "code",
   "execution_count": 1,
   "id": "06141ffd-c207-4135-8904-81921029c687",
   "metadata": {},
   "outputs": [
    {
     "name": "stderr",
     "output_type": "stream",
     "text": [
      "Traceback (most recent call last):\n",
      "  File \"C:\\Users\\life\\ai-engineering-roadmap\\hello_ai.py\", line 10, in <module>\n",
      "    main()\n",
      "    ~~~~^^\n",
      "  File \"C:\\Users\\life\\ai-engineering-roadmap\\hello_ai.py\", line 6, in main\n",
      "    print(\"\\U0001f44b Hello AI! Here’s a 2×2 NumPy array:\")\n",
      "    ~~~~~^^^^^^^^^^^^^^^^^^^^^^^^^^^^^^^^^^^^^^^^^^\n",
      "  File \"C:\\Users\\life\\AppData\\Local\\Programs\\Python\\Python313\\Lib\\encodings\\cp1252.py\", line 19, in encode\n",
      "    return codecs.charmap_encode(input,self.errors,encoding_table)[0]\n",
      "           ~~~~~~~~~~~~~~~~~~~~~^^^^^^^^^^^^^^^^^^^^^^^^^^^^^^^^^^\n",
      "UnicodeEncodeError: 'charmap' codec can't encode character '\\U0001f44b' in position 0: character maps to <undefined>\n"
     ]
    }
   ],
   "source": [
    "!python hello_ai.py"
   ]
  },
  {
   "cell_type": "code",
   "execution_count": 1,
   "id": "e7437d24-93d6-42a4-aaf5-4e364279510a",
   "metadata": {},
   "outputs": [
    {
     "ename": "AttributeError",
     "evalue": "'OutStream' object has no attribute 'reconfigure'",
     "output_type": "error",
     "traceback": [
      "\u001b[31m---------------------------------------------------------------------------\u001b[39m",
      "\u001b[31mAttributeError\u001b[39m                            Traceback (most recent call last)",
      "\u001b[36mCell\u001b[39m\u001b[36m \u001b[39m\u001b[32mIn[1]\u001b[39m\u001b[32m, line 3\u001b[39m\n\u001b[32m      1\u001b[39m \u001b[38;5;66;03m# In your 01-hello-ai.ipynb cell\u001b[39;00m\n\u001b[32m      2\u001b[39m \u001b[38;5;28;01mimport\u001b[39;00m\u001b[38;5;250m \u001b[39m\u001b[34;01msys\u001b[39;00m\n\u001b[32m----> \u001b[39m\u001b[32m3\u001b[39m \u001b[43msys\u001b[49m\u001b[43m.\u001b[49m\u001b[43mstdout\u001b[49m\u001b[43m.\u001b[49m\u001b[43mreconfigure\u001b[49m(encoding=\u001b[33m'\u001b[39m\u001b[33mutf-8\u001b[39m\u001b[33m'\u001b[39m)  \u001b[38;5;66;03m# Add this at the top\u001b[39;00m\n\u001b[32m      5\u001b[39m get_ipython().system(\u001b[33m'\u001b[39m\u001b[33mpython hello_ai.py\u001b[39m\u001b[33m'\u001b[39m)\n",
      "\u001b[31mAttributeError\u001b[39m: 'OutStream' object has no attribute 'reconfigure'"
     ]
    }
   ],
   "source": [
    "# In your 01-hello-ai.ipynb cell\n",
    "import sys\n",
    "sys.stdout.reconfigure(encoding='utf-8')  # Add this at the top\n",
    "\n",
    "!python hello_ai.py"
   ]
  },
  {
   "cell_type": "code",
   "execution_count": 2,
   "id": "912392a9-5e2d-49c4-a97e-261cc0ad8da6",
   "metadata": {},
   "outputs": [
    {
     "name": "stdout",
     "output_type": "stream",
     "text": [
      "Hello AI! Here’s a 2×2 NumPy array:\n",
      "[[1 2]\n",
      " [3 4]]\n"
     ]
    }
   ],
   "source": [
    "!python hello_ai.py"
   ]
  },
  {
   "cell_type": "code",
   "execution_count": null,
   "id": "a289eacd-e3b8-4622-b1eb-d99094e340b3",
   "metadata": {},
   "outputs": [],
   "source": []
  }
 ],
 "metadata": {
  "kernelspec": {
   "display_name": "Python 3 (ipykernel)",
   "language": "python",
   "name": "python3"
  },
  "language_info": {
   "codemirror_mode": {
    "name": "ipython",
    "version": 3
   },
   "file_extension": ".py",
   "mimetype": "text/x-python",
   "name": "python",
   "nbconvert_exporter": "python",
   "pygments_lexer": "ipython3",
   "version": "3.13.1"
  }
 },
 "nbformat": 4,
 "nbformat_minor": 5
}
